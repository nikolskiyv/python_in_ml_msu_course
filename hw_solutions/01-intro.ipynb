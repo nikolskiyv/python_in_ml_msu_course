{
 "cells": [
  {
   "cell_type": "markdown",
   "metadata": {},
   "source": [
    "## Домашнее задание №1 (курс \"Практикум по программированию на языке Python\")"
   ]
  },
  {
   "cell_type": "markdown",
   "metadata": {},
   "source": [
    "### Выполнил: <font color='red'>Никольский Владимир Андреевич, МГУ, ВМК</font>\n",
    "\n",
    "### Тема: Введение в язык Python\n",
    "\n",
    "**Автор**: Мурат Апишев\n",
    "\n",
    "**Выдана**:   16 февраля 2023\n",
    "\n",
    "**Дедлайн**:  21:00 3 марта 2023\n",
    "\n",
    "**Среда выполнения**: Jupyter Notebook (Python 3.7+)\n",
    "\n",
    "#### Правила:\n",
    "\n",
    "Результат выполнения задания - Jupyter Notebook с кодом. __Максимальное число баллов за задание - 20__.\n",
    "\n",
    "Все ячейки должны быть \"выполненными\", при этом результат должен воспроизводиться при проверке (на Python 3.7). Если какой-то код не был запущен или отрабатывает с ошибками, то пункт не засчитывается. Задание, сданное после дедлайна, _не принимается_. Можно отправить недоделанное задание, выполненные пункты будут оценены.\n",
    "\n",
    "Готовое задание отправляется на почту mel-lain@yandex.ru.\n",
    "\n",
    "Задание выполняется самостоятельно. Если какие-то студенты будут уличены в списывании, все они автоматически получат за эту работу 0 баллов. Если вы нашли в Интернете какой-то специфичный код, который собираетесь заимствовать, обязательно укажите это в задании - наверняка вы не единственный, кто найдёт и использует эту информацию.\n",
    "\n",
    "__Удалять фрагменты формулировок заданий запрещается.__"
   ]
  },
  {
   "cell_type": "code",
   "execution_count": 1,
   "metadata": {},
   "outputs": [
    {
     "name": "stdout",
     "output_type": "stream",
     "text": [
      "Python 3.7.5\r\n"
     ]
    }
   ],
   "source": [
    "!python --version"
   ]
  },
  {
   "cell_type": "markdown",
   "metadata": {},
   "source": [
    "#### Постановка задачи:\n",
    "\n",
    "- В данной работе нужно решить набор задач, проверяющих владение базовыми инструментами языка.\n",
    "- Каждая задача представляет собой написание одной или более функций, а также набора тестов, проверяющих работу этой функции в общих и крайних случаях.\n",
    "- Отсутствие тестов автоматически уменьшает количество баллов за задание как минимум в два раза, некачественные тесты также будут штрафоваться.\n",
    "- Если в задании указано использовать несколько разных вариантов решения, подразумевается использование различных инструментов (циклы, списковые включения, генераторы, встроенные функции, функции модулей стандартной библотеки и т.п.), замена, например, цикла for на цикл while не является иным способом решения.\n",
    "- Даже если это не указано явно в требованиях, код должен быть по возможности неизбыточным, работать с разумной сложностью и объёмом потребялемой памяти, проверяющие могут снизить балл за задание, выполненное без учёта этого требования.\n",
    "- Результирующий код должен быть читаемым, с единой системой отступов и адеквантными названиями переменных, проверяющие могут снизить балл за задание, выполненное без учёта этого требования."
   ]
  },
  {
   "cell_type": "markdown",
   "metadata": {},
   "source": [
    "__Задание 1 (0.5 балла):__ Дано натуральное число. Требуется определить, является ли год с данным номером високосным. Если год является високосным, то выведите YES, иначе выведите NO. Напомним, что в соответствии с григорианским календарем, год является високосным, если его номер кратен 4, но не кратен 100, а также если он кратен 400."
   ]
  },
  {
   "cell_type": "code",
   "execution_count": 121,
   "metadata": {},
   "outputs": [],
   "source": [
    "def task_01_func(year):\n",
    "    if (year % 4 == 0 and year % 100 != 0) or (year % 400 == 0):\n",
    "        print('YES')\n",
    "    else:\n",
    "        print('NO')"
   ]
  },
  {
   "cell_type": "code",
   "execution_count": 123,
   "metadata": {},
   "outputs": [
    {
     "name": "stdout",
     "output_type": "stream",
     "text": [
      "NO\n",
      "YES\n",
      "NO\n",
      "YES\n"
     ]
    }
   ],
   "source": [
    "task_01_func(2021)\n",
    "task_01_func(2000)\n",
    "task_01_func(1700)\n",
    "task_01_func(1600)"
   ]
  },
  {
   "cell_type": "markdown",
   "metadata": {},
   "source": [
    "__Задание 2 (0.5 балла):__ Дано натуральное число. Найдите число знаков в его десятичной записи. Предложите как минимум два различных решения."
   ]
  },
  {
   "cell_type": "code",
   "execution_count": 64,
   "metadata": {},
   "outputs": [],
   "source": [
    "def task_02_func_v1(number):\n",
    "    return len(str(number))"
   ]
  },
  {
   "cell_type": "code",
   "execution_count": 65,
   "metadata": {},
   "outputs": [],
   "source": [
    "def task_02_func_v2(number):\n",
    "    if number < 10:\n",
    "        return 1\n",
    "    return 1 + task_02_func_v2(number // 10)"
   ]
  },
  {
   "cell_type": "code",
   "execution_count": 66,
   "metadata": {},
   "outputs": [
    {
     "name": "stdout",
     "output_type": "stream",
     "text": [
      "OK for task_02_func_v1\n",
      "OK for task_02_func_v2\n"
     ]
    }
   ],
   "source": [
    "def test_task_02(func):\n",
    "    assert func(1) == 1\n",
    "    assert func(4444) == 4\n",
    "    \n",
    "    print('OK for ' + str(func.__name__))\n",
    "    \n",
    "test_task_02(task_02_func_v1)\n",
    "test_task_02(task_02_func_v2)"
   ]
  },
  {
   "cell_type": "markdown",
   "metadata": {},
   "source": [
    "__Задание 3 (0.5 балла):__ По данному натуральном n вычислите сумму 1!+2!+3!+...+n!. В решении этой задачи с помощью циклов можно использовать только один цикл. Предложите как минимум два различных решения."
   ]
  },
  {
   "cell_type": "code",
   "execution_count": 67,
   "metadata": {},
   "outputs": [],
   "source": [
    "def task_03_func_v1(n):\n",
    "    result = 0\n",
    "    factorial = 1\n",
    "    \n",
    "    for i in range(1, n+1):\n",
    "        factorial *= i\n",
    "        result += factorial\n",
    "        \n",
    "    return result"
   ]
  },
  {
   "cell_type": "code",
   "execution_count": 43,
   "metadata": {},
   "outputs": [],
   "source": [
    "def task_03_func_v2(n):\n",
    "    factorial = lambda m: 1 if m == 0 else m * factorial(m-1)\n",
    "        \n",
    "    result = 0\n",
    "    for i in range(1, n+1):\n",
    "        result += factorial(i)\n",
    "    return result"
   ]
  },
  {
   "cell_type": "code",
   "execution_count": 68,
   "metadata": {},
   "outputs": [
    {
     "name": "stdout",
     "output_type": "stream",
     "text": [
      "OK for task_03_func_v1\n",
      "OK for task_03_func_v2\n"
     ]
    }
   ],
   "source": [
    "def test_task_03(func):\n",
    "    assert func(1) == 1\n",
    "    assert func(2) == 3\n",
    "    assert func(3) == 9\n",
    "    assert func(4) == 33\n",
    "    assert func(5) == 153\n",
    "    \n",
    "    print('OK for ' + str(func.__name__))\n",
    "\n",
    "test_task_03(task_03_func_v1)\n",
    "test_task_03(task_03_func_v2)"
   ]
  },
  {
   "cell_type": "markdown",
   "metadata": {},
   "source": [
    "__Задание 4 (0.5 балла):__ Определить, является ли введённая строка палиндромом (то есть одинаково читается с обеих сторон). Предложите как минимум три различных решения."
   ]
  },
  {
   "cell_type": "code",
   "execution_count": 69,
   "metadata": {},
   "outputs": [],
   "source": [
    "def task_04_func_v1(s):\n",
    "    return s == s[::-1]"
   ]
  },
  {
   "cell_type": "code",
   "execution_count": 70,
   "metadata": {},
   "outputs": [],
   "source": [
    "def task_04_func_v2(s):\n",
    "    for i in range(len(s) // 2):\n",
    "        if s[i] != s[-i-1]:\n",
    "            return False\n",
    "        \n",
    "    return True"
   ]
  },
  {
   "cell_type": "code",
   "execution_count": 71,
   "metadata": {},
   "outputs": [],
   "source": [
    "def task_04_func_v3(s):\n",
    "    if len(s) <= 1:\n",
    "        return True\n",
    "    \n",
    "    return s[0] == s[-1] and task_04_func_v3(s[1:-1])"
   ]
  },
  {
   "cell_type": "code",
   "execution_count": 72,
   "metadata": {},
   "outputs": [
    {
     "name": "stdout",
     "output_type": "stream",
     "text": [
      "OK for task_04_func_v1\n",
      "OK for task_04_func_v2\n",
      "OK for task_04_func_v3\n"
     ]
    }
   ],
   "source": [
    "def test_task_04(func):\n",
    "    assert func('') == True\n",
    "    assert func('a') == True\n",
    "    assert func('aaabbbbaaa') == True\n",
    "    assert func('aba') == True\n",
    "    assert func('ab') == False\n",
    "    \n",
    "    print('OK for ' + str(func.__name__))\n",
    "    \n",
    "test_task_04(task_04_func_v1)\n",
    "test_task_04(task_04_func_v2)\n",
    "test_task_04(task_04_func_v3)"
   ]
  },
  {
   "cell_type": "markdown",
   "metadata": {},
   "source": [
    "__Задание 5 (1 балл):__ Дан текст в виде строки. Напишите функцию, которая возвращает словарь, где ключами являются уникальные слова из этого текста, а значениями - число раз, которое данное слово встретилось в тексте. Считать, что слова разделяются пробелами. Предложите как минимум два различных решения."
   ]
  },
  {
   "cell_type": "code",
   "execution_count": 73,
   "metadata": {},
   "outputs": [],
   "source": [
    "def task_05_func_v1(text):\n",
    "    return {word: text.split().count(word) for word in set(text.split())}"
   ]
  },
  {
   "cell_type": "code",
   "execution_count": 78,
   "metadata": {},
   "outputs": [],
   "source": [
    "def task_05_func_v2(text):\n",
    "    counter = {}\n",
    "    \n",
    "    for word in text.split():\n",
    "        if counter.get(word):\n",
    "            counter[word] += 1\n",
    "        else:\n",
    "            counter[word] = 1\n",
    "        \n",
    "    return counter"
   ]
  },
  {
   "cell_type": "code",
   "execution_count": 79,
   "metadata": {},
   "outputs": [
    {
     "name": "stdout",
     "output_type": "stream",
     "text": [
      "OK for task_05_func_v1\n",
      "OK for task_05_func_v2\n"
     ]
    }
   ],
   "source": [
    "def test_task_05(func):\n",
    "    test_1 = func('word1 word2 word1 word3 word1')\n",
    "    \n",
    "    assert test_1.get('word1') == 3\n",
    "    assert test_1.get('word2') == 1\n",
    "    assert test_1.get('word3') == 1\n",
    "    \n",
    "    test_2 = func('')\n",
    "    assert test_2 == {}\n",
    "    \n",
    "    print('OK for ' + str(func.__name__))\n",
    "\n",
    "test_task_05(task_05_func_v1)\n",
    "test_task_05(task_05_func_v2)"
   ]
  },
  {
   "cell_type": "markdown",
   "metadata": {},
   "source": [
    "__Задание 6 (1 балл):__ Напишите функцию, которая принимает на вход строку и символ и возвращает:\n",
    "\n",
    "- если символ встретился в строке один раз - кортеж (индекс вхождения, None);\n",
    "- если два и более раз - кортеж (индекс первого вхождения, индекс последнего вхождения);\n",
    "- если ни разу - кортеж (None, None).\n",
    "\n",
    "Запрещается делать более одного прохода по каждому элементу строки."
   ]
  },
  {
   "cell_type": "code",
   "execution_count": 85,
   "metadata": {},
   "outputs": [],
   "source": [
    "def task_06_func(input_str, input_char):\n",
    "    first_index = input_str.find(input_char)\n",
    "    last_index = input_str.rfind(input_char)\n",
    "    \n",
    "    if first_index == -1:\n",
    "        return (None, None)\n",
    "    elif first_index == last_index:\n",
    "        return (first_index, None)\n",
    "    else:\n",
    "        return (first_index, last_index)"
   ]
  },
  {
   "cell_type": "code",
   "execution_count": 92,
   "metadata": {},
   "outputs": [
    {
     "name": "stdout",
     "output_type": "stream",
     "text": [
      "OK\n"
     ]
    }
   ],
   "source": [
    "def test_task_06():\n",
    "    assert task_06_func('python', 'o') == (4, None)\n",
    "    assert task_06_func('injection', 'i') == (0, 6)\n",
    "    assert task_06_func('python', 'x') == (None, None)\n",
    "    assert task_06_func('', 'x') == (None, None)\n",
    "    \n",
    "    print('OK')\n",
    "    \n",
    "test_task_06()"
   ]
  },
  {
   "cell_type": "markdown",
   "metadata": {},
   "source": [
    "__Задание 7 (1 балл):__ Дан список целых чисел. Напишите функцию, которая возвращает копию этого списка, из которой удалены отрицательные числа, а все прочие числа возведены в квадрат. Также возвращаемая последовательность должна быть отсортирована по убыванию. Предложите как минимум три различных решения."
   ]
  },
  {
   "cell_type": "code",
   "execution_count": 104,
   "metadata": {},
   "outputs": [],
   "source": [
    "def task_07_func_v1(lst):\n",
    "    new_lst = [x ** 2 for x in lst if x >= 0]\n",
    "    new_lst.sort(reverse=True)\n",
    "    return new_lst"
   ]
  },
  {
   "cell_type": "code",
   "execution_count": 105,
   "metadata": {},
   "outputs": [],
   "source": [
    "def task_07_func_v2(lst):\n",
    "    new_lst = list(map(lambda x: x ** 2, filter(lambda x: x >= 0, lst)))\n",
    "    new_lst.sort(reverse=True)\n",
    "    return new_lst"
   ]
  },
  {
   "cell_type": "code",
   "execution_count": 108,
   "metadata": {},
   "outputs": [],
   "source": [
    "def task_07_func_v3(lst):\n",
    "    new_lst = []\n",
    "    for num in lst:\n",
    "        if num < 0:\n",
    "            continue\n",
    "        new_lst.append(num ** 2)\n",
    "    return sorted(new_lst, reverse=True)"
   ]
  },
  {
   "cell_type": "code",
   "execution_count": 109,
   "metadata": {},
   "outputs": [
    {
     "name": "stdout",
     "output_type": "stream",
     "text": [
      "OK for task_07_func_v1\n",
      "OK for task_07_func_v2\n",
      "OK for task_07_func_v3\n"
     ]
    }
   ],
   "source": [
    "def test_task_07(func):\n",
    "    assert func([1, -2, 3, -4, 5]) == [25, 9, 1]\n",
    "    assert func([2, 4, 6, 8]) == [64, 36, 16, 4]\n",
    "    assert func([-1, -2]) == []\n",
    "    assert func([]) == []\n",
    "    assert func([0, 0, 0]) == [0, 0, 0]\n",
    "    \n",
    "    print('OK for ' + str(func.__name__))\n",
    "\n",
    "test_task_07(task_07_func_v1)\n",
    "test_task_07(task_07_func_v2)\n",
    "test_task_07(task_07_func_v3)"
   ]
  },
  {
   "cell_type": "markdown",
   "metadata": {},
   "source": [
    "__Задание 8 (1 балл):__ Напишите функцию, которая принимает на вход список кортежей одинаковой длины и индекс `index` элемента в кортеже и возвращает генератор, итерирование по которому позволит получит все кортежи входного списка, отсортированные по убыванию элементов этих кортежей с индексом `index`."
   ]
  },
  {
   "cell_type": "code",
   "execution_count": 110,
   "metadata": {},
   "outputs": [],
   "source": [
    "def task_08_func(lst, index):\n",
    "    return (t for t in sorted(lst, key=lambda x: x[index], reverse=True))"
   ]
  },
  {
   "cell_type": "code",
   "execution_count": 115,
   "metadata": {},
   "outputs": [
    {
     "name": "stdout",
     "output_type": "stream",
     "text": [
      "OK\n"
     ]
    }
   ],
   "source": [
    "def test_task_08():\n",
    "    tuples = [(1, 2), (2, 1), (3, 3)]\n",
    "    index = 0\n",
    "    result = list(task_08_func(tuples, index))\n",
    "    expected = [(3, 3), (2, 1), (1, 2)]\n",
    "    assert result == expected\n",
    "    \n",
    "    tuples = [(1, 2), (2, 1), (3, 3)]\n",
    "    index = 1\n",
    "    result = list(task_08_func(tuples, index))\n",
    "    expected = [(3, 3), (1, 2), (2, 1)]\n",
    "    assert result == expected\n",
    "\n",
    "    \n",
    "    tuples = [(1, 2, 3), (3, 2, 1)]\n",
    "    index = 2\n",
    "    result = list(task_08_func(tuples, index))\n",
    "    expected = [(1, 2, 3), (3, 2, 1)]\n",
    "    assert result == expected\n",
    "    \n",
    "    print('OK')\n",
    "    \n",
    "test_task_08()"
   ]
  },
  {
   "cell_type": "markdown",
   "metadata": {},
   "source": [
    "__Задание 9 (1 балл):__ Напишите функцию, которая получает на вход натуральное число `n` и выводит первые `n` строк треугольника Паскаля."
   ]
  },
  {
   "cell_type": "code",
   "execution_count": 129,
   "metadata": {},
   "outputs": [],
   "source": [
    "def task_09_func(n):\n",
    "    def pascal_triangle(m):\n",
    "        if m == 1:\n",
    "            return [[1]]\n",
    "        else:\n",
    "            triangle = pascal_triangle(m - 1)\n",
    "            prev_row = triangle[-1]\n",
    "            row = [1]\n",
    "            \n",
    "            for i in range(len(prev_row) - 1):\n",
    "                row.append(prev_row[i] + prev_row[i + 1])\n",
    "                \n",
    "            row.append(1)\n",
    "            triangle.append(row)\n",
    "            return triangle\n",
    "        \n",
    "    triangle = pascal_triangle(n)\n",
    "    for row in triangle:\n",
    "        print(row)"
   ]
  },
  {
   "cell_type": "code",
   "execution_count": 130,
   "metadata": {},
   "outputs": [
    {
     "name": "stdout",
     "output_type": "stream",
     "text": [
      "[1]\n",
      "[1, 1]\n",
      "[1, 2, 1]\n",
      "[1, 3, 3, 1]\n",
      "[1, 4, 6, 4, 1]\n"
     ]
    }
   ],
   "source": [
    "task_09_func(5)"
   ]
  },
  {
   "cell_type": "markdown",
   "metadata": {},
   "source": [
    "__Задание 10 (1 балл):__ Напишите функцию, которая принимает на вход абсолютный путь к директории и две строки с расширениями файлов. В результате её выполнения у всех файлов в указанной директории, имеющих первое расширение, расширение должно измениться на второе. В конце работы функция должна возвращать кортеж из двух элементов:\n",
    "\n",
    "1. сколько всего в директории файлов (именно файлов, не директорий);\n",
    "2. у скольки из них расширение было изменено.\n",
    "\n",
    "Допускается только один проход по каждому файлу из указанной директории."
   ]
  },
  {
   "cell_type": "code",
   "execution_count": 153,
   "metadata": {},
   "outputs": [],
   "source": [
    "import os\n",
    "import re"
   ]
  },
  {
   "cell_type": "code",
   "execution_count": 174,
   "metadata": {},
   "outputs": [],
   "source": [
    "def task_10_func(dir_path, prev_extension, next_extension):\n",
    "    num_total_files = 0\n",
    "    num_modified_files = 0\n",
    "\n",
    "    pattern = re.compile(f'.*\\.{prev_extension}$')\n",
    "\n",
    "    for root, dirs, files in os.walk(dir_path):\n",
    "        for file in files:\n",
    "            num_total_files += 1\n",
    "            file_path = os.path.join(root, file)\n",
    "\n",
    "            if pattern.match(file):\n",
    "                new_file_path = os.path.splitext(file_path)[0] + '.' + next_extension\n",
    "                os.rename(file_path, new_file_path)\n",
    "                num_modified_files += 1\n",
    "        break\n",
    "\n",
    "    return num_total_files, num_modified_files"
   ]
  },
  {
   "cell_type": "code",
   "execution_count": 176,
   "metadata": {},
   "outputs": [
    {
     "name": "stdout",
     "output_type": "stream",
     "text": [
      "OK\n"
     ]
    }
   ],
   "source": [
    "import tempfile\n",
    "\n",
    "def test_task_10():\n",
    "    \n",
    "    # Создаем временную директорию и несколько файлов с разными расширениями\n",
    "    with tempfile.TemporaryDirectory() as temp_dir:\n",
    "        os.makedirs(os.path.join(temp_dir, 'subdir'))\n",
    "        \n",
    "        open(os.path.join(temp_dir, 'file1.txt'), 'w').close()\n",
    "        open(os.path.join(temp_dir, 'file2.old'), 'w').close()\n",
    "        open(os.path.join(temp_dir, 'file3.old'), 'w').close()\n",
    "        open(os.path.join(temp_dir, 'file4.txt'), 'w').close()\n",
    "        open(os.path.join(temp_dir, 'subdir/file5.txt'), 'w').close()\n",
    "\n",
    "        total_files, modified_files = task_10_func(temp_dir, 'old', 'new')\n",
    "\n",
    "        assert total_files == 4\n",
    "        assert modified_files == 2\n",
    "\n",
    "        assert os.path.isfile(os.path.join(temp_dir, 'file2.new'))\n",
    "        assert os.path.isfile(os.path.join(temp_dir, 'file3.new'))\n",
    "        assert os.path.isfile(os.path.join(temp_dir, 'file1.txt'))\n",
    "        assert os.path.isfile(os.path.join(temp_dir, 'file4.txt'))\n",
    "        assert os.path.isfile(os.path.join(temp_dir, 'subdir/file5.txt'))\n",
    "        \n",
    "    print('OK')\n",
    "    \n",
    "test_task_10()"
   ]
  },
  {
   "cell_type": "markdown",
   "metadata": {},
   "source": [
    "__Задание 11 (1 балл):__ Описать функцию, которая принимает на вход два списка и возвращает список уникальных элементов, которые есть в первом входном списке и отсутствуют во втором. Запрещается использовать циклы и списковые включения/генераторы списков."
   ]
  },
  {
   "cell_type": "code",
   "execution_count": 177,
   "metadata": {},
   "outputs": [],
   "source": [
    "def task_11_func(first_list, second_list):\n",
    "    return list(set(first_list) - set(second_list))"
   ]
  },
  {
   "cell_type": "code",
   "execution_count": 184,
   "metadata": {},
   "outputs": [
    {
     "name": "stdout",
     "output_type": "stream",
     "text": [
      "OK\n"
     ]
    }
   ],
   "source": [
    "def test_task_11():\n",
    "    assert task_11_func([1, 2, 2, 3, 4], [1, 4, 4, 4]) == [2, 3]\n",
    "    assert task_11_func([1, 2, 3, 3], []) == [1, 2, 3]\n",
    "    assert task_11_func([], [1, 2, 2, 3]) == []\n",
    "    assert task_11_func([], []) == []\n",
    "    \n",
    "    print('OK')\n",
    "    \n",
    "test_task_11()"
   ]
  },
  {
   "cell_type": "markdown",
   "metadata": {},
   "source": [
    "__Задание 12 (1 балл):__ Напишите функцию, которая получает на вход путь к файлу, в котором в каждой строке записано одно вещественное число, а также путь к выходному файлу. Функция должна прочитать содержимое файла, игнорировать строки с нечётными индексами, а строки с чётными индексами должна увеличить на минимальное из чисел, содержащихся в этом файле. Полученные числа нужно записать в выходной файл с точностью 5 знаков после запятой.\n",
    "\n",
    "Требуется сделать не более двух проходов по входному файлу, расход памяти на протяжении работы должен быть O(1) (то есть никак не зависеть от числа строк во входном файле)."
   ]
  },
  {
   "cell_type": "code",
   "execution_count": 232,
   "metadata": {},
   "outputs": [],
   "source": [
    "def task_12_func(input_path, output_path):\n",
    "    # Определяем минимальное число в файле, пропуская нечётные строки\n",
    "    min_num = float('inf')\n",
    "    \n",
    "    with open(input_path, 'r') as input_file:\n",
    "        for i, line in enumerate(input_file):\n",
    "            num = float(line.strip())\n",
    "            min_num = min(min_num, num)\n",
    "            \n",
    "    # Увеличиваем чётные числа на минимальное и записываем результаты в выходной файл\n",
    "    with open(input_path, 'r') as input_file, open(output_path, 'w') as output_file:\n",
    "        for i, line in enumerate(input_file):\n",
    "            num = float(line)\n",
    "            \n",
    "            if (i+1) % 2 != 0:\n",
    "                continue\n",
    "            num += min_num\n",
    "            output_file.write(f'{num:.5f}\\n')"
   ]
  },
  {
   "cell_type": "code",
   "execution_count": 236,
   "metadata": {},
   "outputs": [
    {
     "name": "stdout",
     "output_type": "stream",
     "text": [
      "OK\n"
     ]
    }
   ],
   "source": [
    "import tempfile\n",
    "\n",
    "def test_task_12():\n",
    "    with tempfile.NamedTemporaryFile(mode='w', delete=False) as input_file:\n",
    "        input_file.write(\"1.2345\\n2.3456\\n3.4567\\n4.5678\\n5.6789\\n\")\n",
    "\n",
    "    output_path = tempfile.NamedTemporaryFile(delete=False).name\n",
    "    task_12_func(input_file.name, output_path)\n",
    "\n",
    "    with open(output_path) as output_file:\n",
    "        result = output_file.read()\n",
    "\n",
    "        assert result == \"3.58010\\n5.80230\\n\"\n",
    "\n",
    "    print('OK')\n",
    "\n",
    "test_task_12()"
   ]
  },
  {
   "cell_type": "markdown",
   "metadata": {},
   "source": [
    "__Задание 13 (1 балл):__ Написать функцию, которая принимает на вход число `n`, которое может быть либо натуральным, либо -1, и возвращает генератор чисел Фиббоначи. Если входной параметр равен натуральному числу, то генератор должен выдавать последовательно числа Фиббоначи до `n`-го. Если `n` равно -1, то генератор должен быть бесконечным."
   ]
  },
  {
   "cell_type": "code",
   "execution_count": 1,
   "metadata": {},
   "outputs": [],
   "source": [
    "def task_13_func(n):\n",
    "    def gen_fib(m):\n",
    "        a, b = 0, 1\n",
    "        i = 0\n",
    "        while n == -1 or i < m:\n",
    "            yield a\n",
    "            a, b = b, a + b\n",
    "            i += 1\n",
    "    return gen_fib(n)"
   ]
  },
  {
   "cell_type": "code",
   "execution_count": 2,
   "metadata": {},
   "outputs": [
    {
     "name": "stdout",
     "output_type": "stream",
     "text": [
      "OK\n"
     ]
    }
   ],
   "source": [
    "import itertools\n",
    "\n",
    "def test_task_13():\n",
    "    gen_fib = task_13_func(5)\n",
    "    assert list(gen_fib) == [0, 1, 1, 2, 3]\n",
    "\n",
    "    gen_fib = task_13_func(10)\n",
    "    assert list(gen_fib) == [0, 1, 1, 2, 3, 5, 8, 13, 21, 34]\n",
    "    \n",
    "    gen_fib = task_13_func(-1)\n",
    "    n = 100000\n",
    "    \n",
    "    # используем функцию islice() для получения первых n элементов из генератора\n",
    "    result = list(itertools.islice(gen_fib, n))\n",
    "    assert len(result) == n\n",
    "    \n",
    "    print('OK')\n",
    "    \n",
    "test_task_13()"
   ]
  },
  {
   "cell_type": "markdown",
   "metadata": {},
   "source": [
    "__Задание 14 (1 балл):__ Написать функцию, которая принимает на вход произвольный объект, проверяет его тип, и для целого числа возвращает список всех магических методов объекта, начинающихся с `__a`, для строк - с `__s`. Для всех прочих типов должен возвращаться список немагических методов. В задании запрещается использовать циклы и списковые включения/генераторы списков."
   ]
  },
  {
   "cell_type": "code",
   "execution_count": 35,
   "metadata": {},
   "outputs": [],
   "source": [
    "def task_14_func(n):\n",
    "    if type(n) is int:\n",
    "        return list(filter(lambda x: x.startswith('__a'), dir(n)))\n",
    "    elif type(n) is str:\n",
    "        return list(filter(lambda x: x.startswith('__s'), dir(n)))\n",
    "    else:\n",
    "        return list(filter(lambda x: not x.startswith('__'), dir(n)))"
   ]
  },
  {
   "cell_type": "code",
   "execution_count": 38,
   "metadata": {},
   "outputs": [
    {
     "name": "stdout",
     "output_type": "stream",
     "text": [
      "OK\n"
     ]
    }
   ],
   "source": [
    "def test_task_14():\n",
    "    assert task_14_func(1) == ['__abs__', \n",
    "                               '__add__', \n",
    "                               '__and__']\n",
    "    \n",
    "    assert task_14_func('str') == ['__setattr__',\n",
    "                                   '__sizeof__',\n",
    "                                   '__str__',\n",
    "                                   '__subclasshook__']\n",
    "    \n",
    "    assert task_14_func([]) == ['append', \n",
    "                                'clear', \n",
    "                                'copy', \n",
    "                                'count', \n",
    "                                'extend', \n",
    "                                'index', \n",
    "                                'insert',\n",
    "                                'pop', \n",
    "                                'remove',\n",
    "                                'reverse',\n",
    "                                'sort']\n",
    "    \n",
    "    assert task_14_func(()) == ['count', \n",
    "                                'index']\n",
    "    \n",
    "    assert task_14_func({}) == ['clear', \n",
    "                                'copy',\n",
    "                                'fromkeys',\n",
    "                                'get', \n",
    "                                'items',\n",
    "                                'keys',\n",
    "                                'pop',\n",
    "                                'popitem',\n",
    "                                'setdefault',\n",
    "                                'update',\n",
    "                                'values']\n",
    "    \n",
    "    assert task_14_func(set()) == ['add',\n",
    "                                   'clear',\n",
    "                                   'copy',\n",
    "                                   'difference',\n",
    "                                   'difference_update',\n",
    "                                   'discard',\n",
    "                                   'intersection',\n",
    "                                   'intersection_update',\n",
    "                                   'isdisjoint',\n",
    "                                   'issubset',\n",
    "                                   'issuperset',\n",
    "                                   'pop',\n",
    "                                   'remove',\n",
    "                                   'symmetric_difference',\n",
    "                                   'symmetric_difference_update',\n",
    "                                   'union',\n",
    "                                   'update']\n",
    "    \n",
    "    assert task_14_func(True) == ['bit_length',\n",
    "                                  'conjugate',\n",
    "                                  'denominator',\n",
    "                                  'from_bytes',\n",
    "                                  'imag',\n",
    "                                  'numerator',\n",
    "                                  'real',\n",
    "                                  'to_bytes']\n",
    "    \n",
    "    print('OK')\n",
    "\n",
    "test_task_14()"
   ]
  },
  {
   "cell_type": "markdown",
   "metadata": {},
   "source": [
    "__Задание 15 (1.5 балла):__ Написать функцию, которая во входной строке заменяет вхождения всех английских заглавных букв на их номер в таблице ASCII, затем производит сплит по минимальной из цифр строки. Предложите как минимум два различных решения, одно из которых не должно использовать циклы. При использовании циклов допускается не более двух проходов по строке."
   ]
  },
  {
   "cell_type": "code",
   "execution_count": 145,
   "metadata": {},
   "outputs": [],
   "source": [
    "def task_15_func_v1(n):\n",
    "    new_string = ''\n",
    "    for char in n:\n",
    "        if char.isupper():\n",
    "            new_string += str(ord(char))\n",
    "        else:\n",
    "            new_string += char\n",
    "    digits = [int(d) for d in new_string if d.isdigit()]\n",
    "    if len(digits) == 0:\n",
    "        return [n]\n",
    "    elif len(new_string) == 0:\n",
    "        return ['']\n",
    "    else:\n",
    "        min_digit = min(digits)\n",
    "        return new_string.split(str(min_digit))"
   ]
  },
  {
   "cell_type": "code",
   "execution_count": 154,
   "metadata": {},
   "outputs": [],
   "source": [
    "def task_15_func_v2(n):\n",
    "\n",
    "    upper_alphas = 'ABCDEFGHIJKLMNOPQRSTUVWXYZ'\n",
    "    ascii_codes = [str(ord(char)) if char in upper_alphas else char for char in n]\n",
    "    new_string = ''.join(ascii_codes)\n",
    "    \n",
    "    \n",
    "    if len(new_string) == 0:\n",
    "        return ['']\n",
    "    else:\n",
    "        try:\n",
    "            min_digit = min(map(int, filter(str.isdigit, new_string)))\n",
    "        except ValueError:\n",
    "            return [n]\n",
    "        return new_string.split(str(min_digit))"
   ]
  },
  {
   "cell_type": "code",
   "execution_count": 156,
   "metadata": {},
   "outputs": [
    {
     "name": "stdout",
     "output_type": "stream",
     "text": [
      "OK for task_15_func_v1\n",
      "OK for task_15_func_v2\n"
     ]
    }
   ],
   "source": [
    "def test_task_15(func):\n",
    "    assert func('') == ['']\n",
    "    assert func('!@#$%^&*()') == ['!@#$%^&*()']\n",
    "    \n",
    "    assert func('321Hello123') == ['32', '72ello', '23']\n",
    "    assert func('Hello, World!') == ['7', 'ello, 87orld!']\n",
    "    assert func('ABC123abc') == ['656667', '23abc']\n",
    "    assert func('AAA656') == ['6', '6', '6', '6', '6']\n",
    "    \n",
    "\n",
    "    print('OK for ' + str(func.__name__))\n",
    "    \n",
    "test_task_15(task_15_func_v1)\n",
    "test_task_15(task_15_func_v2)"
   ]
  },
  {
   "cell_type": "markdown",
   "metadata": {},
   "source": [
    "__Задание 16 (1.5 балла):__ Написать функцию, которая принимает на вход строку и извлекает из неё мобильные телефонные номера с помощью регулярных выражений. Функция должна поддерживать общепринятые варианты написания номера, как со всевозможными разделителями, так и без них (обеспечьте поддержку не менее 10 различных случаев). Возвращаемым значением функции является список всех найденных в строке номеров, если их не было, нужно вернуть пустой список."
   ]
  },
  {
   "cell_type": "code",
   "execution_count": 160,
   "metadata": {},
   "outputs": [],
   "source": [
    "import re"
   ]
  },
  {
   "cell_type": "code",
   "execution_count": 181,
   "metadata": {},
   "outputs": [],
   "source": [
    "def task_16_func(n):\n",
    "    pattern = r'(?:\\+?\\d{1,2}\\s*(?:\\(\\d{3}\\)|\\d{3})[\\s.-]?\\d{3}[\\s.-]?\\d{2}[\\s.-]?\\d{2})'\n",
    "    return re.findall(pattern, n)"
   ]
  },
  {
   "cell_type": "code",
   "execution_count": 184,
   "metadata": {},
   "outputs": [
    {
     "name": "stdout",
     "output_type": "stream",
     "text": [
      "OK\n"
     ]
    }
   ],
   "source": [
    "def test_task_16():\n",
    "    text1 = 'Мой номер +7 (903) 123-45-67, а также 89031234567 и +1 (415) 555-0132.'\n",
    "    assert task_16_func(text1) == ['+7 (903) 123-45-67', '89031234567', '+1 (415) 555-0132']\n",
    "    \n",
    "    text2 = 'У меня нет телефона'\n",
    "    assert task_16_func(text2) == []\n",
    "    \n",
    "    print('OK')\n",
    "\n",
    "test_task_16()"
   ]
  },
  {
   "cell_type": "markdown",
   "metadata": {},
   "source": [
    "__Задание 17 (5 баллов):__ Опишем бинарное дерево, представленное в виде вложенных кортежей, в каждом узле дерева хранится вещественное число и ссылка на левое и правое поддерево.\n",
    "\n",
    "Пример: для сбалансированного дерева\n",
    "\n",
    "```\n",
    "        v_0\n",
    "       /   \\\n",
    "   v_11     v_12\n",
    "  /  \\       /  \\\n",
    "v_21 v_22  v_23 v_24\n",
    "```\n",
    "\n",
    "представление в виде кортежей будет выглядеть так:\n",
    "\n",
    "```\n",
    "(v_0,\n",
    "    (v_11,\n",
    "        (v_21, None, None),\n",
    "        (v_22, None, None)\n",
    "    ),\n",
    "    (v_12,\n",
    "        (v_23, None, None),\n",
    "        (v_24, None, None)\n",
    "    )\n",
    ")\n",
    "```\n",
    "\n",
    "Необходимо написать функцию, которая принимает на вход бинарное дерево (не обязательно сбалансированное), закодированное описанным способом в виде кортежа, производит его обход в глубину и для каждой листовой вершины вычисляет сумму всех значений от корня до неё включительно. Функция ничего не возвращает, вместо этого она выводит получаемые суммы в порядке следования листовых вершин (слева направо).\n",
    "\n",
    "Реализуйте два решения: на основе рекурсии и на основе циклов."
   ]
  },
  {
   "cell_type": "code",
   "execution_count": 191,
   "metadata": {},
   "outputs": [],
   "source": [
    "def task_17_func_v1(n):\n",
    "    def helper(node, path_sum, res):\n",
    "        if node is None:\n",
    "            return\n",
    "        if node[1] is None and node[2] is None:  # лист\n",
    "            res.append(path_sum + node[0])\n",
    "            return\n",
    "        helper(node[1], path_sum + node[0], res)  # рекурсивный обход левого поддерева\n",
    "        helper(node[2], path_sum + node[0], res)  # рекурсивный обход правого поддерева\n",
    "\n",
    "    res = []\n",
    "    helper(n, 0, res)\n",
    "    print(res)"
   ]
  },
  {
   "cell_type": "code",
   "execution_count": 192,
   "metadata": {},
   "outputs": [],
   "source": [
    "def task_17_func_v2(n):\n",
    "    stack = [(n, 0)]\n",
    "    res = []\n",
    "    while stack:\n",
    "        node, path_sum = stack.pop()\n",
    "        if node is None:\n",
    "            continue\n",
    "        if node[1] is None and node[2] is None:  # лист\n",
    "            res.append(path_sum + node[0])\n",
    "        else:\n",
    "            stack.append((node[2], path_sum + node[0]))  # добавляем правое поддерево\n",
    "            stack.append((node[1], path_sum + node[0]))  # добавляем левое поддерево\n",
    "    print(res)"
   ]
  },
  {
   "cell_type": "markdown",
   "metadata": {},
   "source": [
    "         5\n",
    "        / \\\n",
    "       4   8\n",
    "      /   / \\\n",
    "     11  13  4\n",
    "    /  \\    / \\\n",
    "    7   2   5   1 "
   ]
  },
  {
   "cell_type": "code",
   "execution_count": 193,
   "metadata": {},
   "outputs": [
    {
     "name": "stdout",
     "output_type": "stream",
     "text": [
      "Рекурсивный обход дерева:\n",
      "[27, 22, 27, 22, 18]\n",
      "Циклический обход дерева:\n",
      "[27, 22, 27, 22, 18]\n"
     ]
    }
   ],
   "source": [
    "tree = (5, (4, (11, (7, None, None), (2, None, None)), None), (8, (13, None, (1, None, None)), (4, (5, None, None), (1, None, None))))\n",
    "\n",
    "print(\"Рекурсивный обход дерева:\")\n",
    "task_17_func_v1(tree)\n",
    "\n",
    "print(\"Циклический обход дерева:\")\n",
    "task_17_func_v2(tree)"
   ]
  },
  {
   "cell_type": "code",
   "execution_count": null,
   "metadata": {},
   "outputs": [],
   "source": []
  }
 ],
 "metadata": {
  "kernelspec": {
   "display_name": "Python 3 (ipykernel)",
   "language": "python",
   "name": "python3"
  },
  "language_info": {
   "codemirror_mode": {
    "name": "ipython",
    "version": 3
   },
   "file_extension": ".py",
   "mimetype": "text/x-python",
   "name": "python",
   "nbconvert_exporter": "python",
   "pygments_lexer": "ipython3",
   "version": "3.7.5"
  }
 },
 "nbformat": 4,
 "nbformat_minor": 2
}
